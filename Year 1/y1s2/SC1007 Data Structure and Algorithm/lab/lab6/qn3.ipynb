{
 "cells": [
  {
   "cell_type": "code",
   "execution_count": null,
   "metadata": {},
   "outputs": [
    {
     "name": "stdout",
     "output_type": "stream",
     "text": [
      "[0, 4]\n",
      "[0, 4]\n",
      "Evaluating performance for input_1mil.txt:\n"
     ]
    }
   ],
   "source": [
    "import time\n",
    "import importlib\n",
    "from q1 import dual_search_q1\n",
    "from q2 import dual_search_q2, merge, mergeSort\n",
    "\n",
    "# Function to read values from a file\n",
    "def read_values(filename):\n",
    "    with open(filename, 'r') as file:\n",
    "        return list(map(int, file.readlines()))\n",
    "\n",
    "# Function to evaluate performance\n",
    "def evaluate_performance(algorithm_function, data):\n",
    "    start_time = time.time()\n",
    "    algorithm_function(data, len(data), 8, [])  # Call the function directly\n",
    "    end_time = time.time()\n",
    "    return end_time - start_time\n",
    "\n",
    "# Load data from input files\n",
    "input_1mil = read_values('input_1mil.txt')\n",
    "input_500k = read_values('input_500k.txt')\n",
    "\n",
    "\n",
    "# Evaluate performance for input_1mil\n",
    "print(\"Evaluating performance for input_1mil.txt:\")\n",
    "q1_time_1mil = evaluate_performance(dual_search_q1, input_1mil)\n",
    "q2_time_1mil = evaluate_performance(dual_search_q2, input_1mil)\n",
    "print(f\"q1.py running time: {q1_time_1mil:.4f} seconds\")\n",
    "print(f\"q2.py running time: {q2_time_1mil:.4f} seconds\")\n",
    "\n",
    "\n",
    "# Evaluate performance for input_500k\n",
    "print(\"\\nEvaluating performance for input_500k.txt:\")\n",
    "q1_time_500k = evaluate_performance(dual_search_q1, input_500k)\n",
    "q2_time_500k = evaluate_performance(dual_search_q2, input_500k)\n",
    "print(f\"q1.py running time: {q1_time_500k:.4f} seconds\")\n",
    "print(f\"q2.py running time: {q2_time_500k:.4f} seconds\")"
   ]
  }
 ],
 "metadata": {
  "kernelspec": {
   "display_name": "base",
   "language": "python",
   "name": "python3"
  },
  "language_info": {
   "codemirror_mode": {
    "name": "ipython",
    "version": 3
   },
   "file_extension": ".py",
   "mimetype": "text/x-python",
   "name": "python",
   "nbconvert_exporter": "python",
   "pygments_lexer": "ipython3",
   "version": "3.12.4"
  }
 },
 "nbformat": 4,
 "nbformat_minor": 2
}
